{
 "cells": [
  {
   "cell_type": "markdown",
   "metadata": {},
   "source": [
    "Goals:\n",
    "1) Scrape basketball reference data with scraper\n",
    "2) Visualize per game information by year DONE\n",
    "3) Visualize team totals breakdown\n",
    "4) Create a scraper class/method instead of having each func scrape\n"
   ]
  },
  {
   "cell_type": "code",
   "execution_count": 4,
   "metadata": {},
   "outputs": [],
   "source": [
    "import urllib.request\n",
    "from urllib.request import urlopen\n",
    "from bs4 import BeautifulSoup\n",
    "import pandas as pd\n",
    "import os, ssl\n",
    "import numpy as np\n",
    "import seaborn as sns\n",
    "import matplotlib.pyplot as plt\n",
    "from urllib.error import HTTPError\n",
    "\n",
    "# Verify html request\n",
    "if (not os.environ.get('PYTHONHTTPSVERIFY', '') and\n",
    "getattr(ssl, '_create_unverified_context', None)):\n",
    "    ssl._create_default_https_context = ssl._create_unverified_context\n",
    "\n",
    "# seaborn preset\n",
    "sns.set()\n"
   ]
  },
  {
   "cell_type": "code",
   "execution_count": 5,
   "metadata": {},
   "outputs": [],
   "source": [
    "def stat_leaders_barchart(stat, num_of_players, year, per):\n",
    "    \"\"\"Returns a bar graph containing the stat leaders for a year and per measurment type\n",
    "    \n",
    "        stat is the statistic that will be measured\n",
    "        num_of_players is how many players you want to be shown (over 30 gets slow and hard to read)\n",
    "        year is the season year, 2020 is 2019-20\n",
    "        per is how the statistic will be measured per game,  36 minute, or 100 possesions (game, minute, poss)\"\"\"\n",
    "    \n",
    "    \n",
    "    \n",
    "  \n",
    "    try:\n",
    "        # Setting year and per type to analyze and open html\n",
    "        url = \"https://www.basketball-reference.com/leagues/NBA_{}_per_{}.html\".format(year, per)\n",
    "        html = urllib.request.urlopen(url)\n",
    "        \n",
    "        # Creating soup object\n",
    "        soup = BeautifulSoup(html)\n",
    "    except HTTPError as err:\n",
    "        if err.code == 404:\n",
    "            print(\"Something went wrong! Ensure that the information entered is valid!\")\n",
    "            return\n",
    "        else:\n",
    "            print(\"Whoops! something went really wrong! Its not a 404, website may be down or maybe you broke the code?\")\n",
    "            return\n",
    "    \n",
    "    # Getting column headers with findAll\n",
    "    soup.findAll('tr', limit=2)\n",
    "    headers = [th.getText() for th in soup.findAll('tr', limit=2) [0].findAll('th')]\n",
    "    headers = headers[1:]\n",
    "\n",
    "    # Getting row data\n",
    "    rows = soup.findAll('tr')[1:]\n",
    "    player_stats = [[td.getText() for td in rows[i].findAll('td')] for i in range(len(rows))]\n",
    "\n",
    "    # Create df\n",
    "    stats = pd.DataFrame(player_stats, columns = headers)\n",
    "\n",
    "    # Sort by name and drop duplicates\n",
    "    stats = stats.sort_values(by = ['Player'], inplace = False)\n",
    "    stats.drop_duplicates(subset = ['Player'], inplace = True, keep = 'first')\n",
    "\n",
    "    # Convert stat columns to numeric\n",
    "    #**Make this more efficient**\n",
    "    if (per == \"game\"):\n",
    "        stats[['Age', 'G', 'GS', 'MP', 'FG', 'FGA', 'FG%', '3P', '3PA', '3P%', '2P', \n",
    "        '2PA', '2P%', 'eFG%', 'FT', 'FTA', 'FT%', 'ORB', 'DRB', 'TRB', 'AST', 'STL', 'BLK', 'TOV', 'PF', 'PTS']] = stats[['Age', \n",
    "        'G', 'GS', 'MP', 'FG', 'FGA', 'FG%', '3P', '3PA', '3P%', '2P', '2PA', '2P%', 'eFG%', 'FT','FTA', 'FT%', 'ORB','DRB', \n",
    "        'TRB', 'AST', 'STL', 'BLK', 'TOV', 'PF', 'PTS']].apply(pd.to_numeric)\n",
    "    elif (per == \"minute\" or per == \"poss\"):\n",
    "        stats[['Age', 'G', 'GS', 'MP', 'FG', 'FGA', 'FG%', '3P', '3PA', '3P%', '2P', \n",
    "        '2PA', '2P%', 'FT', 'FTA', 'FT%', 'ORB', 'DRB', 'TRB', 'AST', 'STL', 'BLK', 'TOV', 'PF', 'PTS']] = stats[['Age', \n",
    "        'G', 'GS', 'MP', 'FG', 'FGA', 'FG%', '3P', '3PA', '3P%', '2P', '2PA', '2P%', 'FT','FTA', 'FT%', 'ORB','DRB', \n",
    "        'TRB', 'AST', 'STL', 'BLK', 'TOV', 'PF', 'PTS']].apply(pd.to_numeric)\n",
    "        \n",
    "    # Sorts df by stat and creates leaders df with num_of_players\n",
    "    #** Ensure NBA minimums are met**\n",
    "    sort_by_stat = stats.sort_values(by = [stat], ascending = False)\n",
    "    leaders = sort_by_stat[0:num_of_players]\n",
    "    \n",
    "    # Creates barchart and formats it\n",
    "    #**Format based on num_of_players?**\n",
    "    chart = sns.barplot(data = leaders, x = 'Player', y = stat, color = 'cyan')\n",
    "    chart.set_xticklabels(chart.get_xticklabels(), rotation=90, horizontalalignment = 'center',  fontweight='light',\n",
    "    fontsize='medium')\n",
    "    \n",
    "    return chart"
   ]
  },
  {
   "cell_type": "code",
   "execution_count": 10,
   "metadata": {},
   "outputs": [
    {
     "data": {
      "text/plain": [
       "<matplotlib.axes._subplots.AxesSubplot at 0x7fe9a79a9050>"
      ]
     },
     "execution_count": 10,
     "metadata": {},
     "output_type": "execute_result"
    },
    {
     "data": {
      "image/png": "[encoded data removed]",
      "text/plain": [
       "<Figure size 432x288 with 1 Axes>"
      ]
     },
     "metadata": {},
     "output_type": "display_data"
    }
   ],
   "source": [
    "#Make sure stat is defined with correct 3 letter designation\n",
    "\n",
    "stat_leaders_barchart(\"PTS\", 15, 1996, \"game\")"
   ]
  },
  {
   "cell_type": "code",
   "execution_count": 280,
   "metadata": {},
   "outputs": [],
   "source": [
    "#UNDER CONSTRUCTION (Not Functional... yet!)\n",
    "\n",
    "\n",
    "def team_pts_piechart(year, team):\n",
    "    \"\"\" Returns a pie chart of share of total points for a team in a given year.\n",
    "    \n",
    "        year is season year 2019-20 is 2020\n",
    "        team is the 3 letter all caps designation for the team\n",
    "        \n",
    "        Will include functionality for other stats besides points.\"\"\"\n",
    "    \n",
    "    \n",
    "    try:\n",
    "        # Setting team and year to analyze\n",
    "        url = \"https://www.basketball-reference.com/teams/{}/{}.html#all_roster\".format(team, year)\n",
    "        html = urllib.request.urlopen(url)\n",
    "\n",
    "        # Creating soup object\n",
    "        soup = BeautifulSoup(html, 'html.parser')\n",
    "\n",
    "    except HTTPError as err:\n",
    "        if err.code == 404:\n",
    "            print(\"Something went wrong! Ensure that the information entered is valid!\")\n",
    "            #return\n",
    "\n",
    "\n",
    "\n",
    "    tables = soup.findAll(\"tables\")\n",
    "    print(tables)"
   ]
  },
  {
   "cell_type": "code",
   "execution_count": 279,
   "metadata": {},
   "outputs": [
    {
     "data": {
      "text/plain": [
       "[]"
      ]
     },
     "execution_count": 279,
     "metadata": {},
     "output_type": "execute_result"
    }
   ],
   "source": [
    "team_pts_piechart(2020, \"HOU\")"
   ]
  },
  {
   "cell_type": "code",
   "execution_count": null,
   "metadata": {},
   "outputs": [],
   "source": []
  }
 ],
 "metadata": {
  "kernelspec": {
   "display_name": "Python 3",
   "language": "python",
   "name": "python3"
  },
  "language_info": {
   "codemirror_mode": {
    "name": "ipython",
    "version": 3
   },
   "file_extension": ".py",
   "mimetype": "text/x-python",
   "name": "python",
   "nbconvert_exporter": "python",
   "pygments_lexer": "ipython3",
   "version": "3.7.4"
  }
 },
 "nbformat": 4,
 "nbformat_minor": 4
}
